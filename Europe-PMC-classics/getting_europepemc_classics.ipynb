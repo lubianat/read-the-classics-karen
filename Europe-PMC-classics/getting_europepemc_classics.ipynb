{
 "cells": [
  {
   "cell_type": "markdown",
   "metadata": {},
   "source": [
    "Let's start lookinf for classic citations at the EuropePMC database.\n",
    "\n",
    "Once more, we will use naive definitions of citation classics. \n",
    "\n",
    "Classics are all cited more than 150 times. \n",
    "\n",
    "Big classics: more than 500 citations\n",
    "\n",
    "Medium classics: at least 300 citations, less than 500\n",
    "\n",
    "Small classics: at least 150 citations, less than 300\n"
   ]
  },
  {
   "cell_type": "code",
   "execution_count": null,
   "metadata": {},
   "outputs": [],
   "source": [
    "from utils import utils\n",
    "import pandas as pd\n",
    "from mdutils.mdutils import MdUtils\n",
    "\n",
    "term = \"%22single-cell%20RNA-seq%22\"\n",
    "\n",
    "single_cell_papers = utils.get_papers(term, min_citation = 150)\n",
    "single_cell_papers\n",
    "\n",
    "\n",
    "last_week_classics = pd.read_csv('current_papers.csv')\n",
    "\n",
    "mdFile = MdUtils(file_name='README', title='Classic citations from the Europe PMC database')\n",
    "\n",
    "mdFile = utils.craft_header(mdFile,single_cell_papers)\n",
    "mdFile = utils.craft_sessions(mdFile,single_cell_papers, last_week_classics)\n",
    "\n",
    "\n",
    "single_cell_papers.to_csv('current_papers.csv')\n",
    "\n",
    "mdFile = utils.craft_date(mdFile)\n",
    "mdFile.create_md_file()\n"
   ]
  },
  {
   "cell_type": "markdown",
   "metadata": {},
   "source": [
    "Cool, now we have our database of interest: all articles with more than 150 citations in EuropePMC about \"single-cell RNA sequencing\". \n",
    "\n",
    "The goal now is to turn this database into a markdown, user-friendly list. \n",
    "\n",
    "We will start by creating a base markdown file\n"
   ]
  }
 ],
 "metadata": {
  "kernelspec": {
   "display_name": "Python 3",
   "language": "python",
   "name": "python3"
  },
  "language_info": {
   "codemirror_mode": {
    "name": "ipython",
    "version": 3
   },
   "file_extension": ".py",
   "mimetype": "text/x-python",
   "name": "python",
   "nbconvert_exporter": "python",
   "pygments_lexer": "ipython3",
   "version": "3.7.5"
  }
 },
 "nbformat": 4,
 "nbformat_minor": 4
}
