{
 "cells": [
  {
   "cell_type": "markdown",
   "metadata": {},
   "source": [
    "Let's start lookinf for classic citations at the EuropePMC database.\n",
    "\n",
    "Once more, we will use naive definitions of citation classics. \n",
    "\n",
    "Classics are all cited more than 150 times. \n",
    "\n",
    "Big classics: more than 500 citations\n",
    "\n",
    "Medium classics: at least 300 citations, less than 500\n",
    "\n",
    "Small classics: at least 150 citations, less than 300\n"
   ]
  },
  {
   "cell_type": "code",
   "execution_count": 1,
   "metadata": {},
   "outputs": [
    {
     "name": "stdout",
     "output_type": "stream",
     "text": [
      "* Butler A et al, [Integrating single-cell transcriptomic data across different conditions, technologies, and species.](https://europepmc.org/article/MED/29608179)\n"
     ]
    },
    {
     "name": "stderr",
     "output_type": "stream",
     "text": [
      "/home/lubianat/Documents/my_random_stuff/read-the-classics-karen/Europe-PMC-classics/utils/utils.py:19: SettingWithCopyWarning: \n",
      "A value is trying to be set on a copy of a slice from a DataFrame.\n",
      "Try using .loc[row_indexer,col_indexer] = value instead\n",
      "\n",
      "See the caveats in the documentation: https://pandas.pydata.org/pandas-docs/stable/user_guide/indexing.html#returning-a-view-versus-a-copy\n",
      "  single_cell_papers['firstAuthor'] = first_authors\n"
     ]
    },
    {
     "ename": "NameError",
     "evalue": "name 'last_week_classics' is not defined",
     "output_type": "error",
     "traceback": [
      "\u001b[0;31m---------------------------------------------------------------------------\u001b[0m",
      "\u001b[0;31mNameError\u001b[0m                                 Traceback (most recent call last)",
      "\u001b[0;32m<ipython-input-1-61e7ee58a03b>\u001b[0m in \u001b[0;36m<module>\u001b[0;34m\u001b[0m\n\u001b[1;32m     14\u001b[0m \u001b[0;34m\u001b[0m\u001b[0m\n\u001b[1;32m     15\u001b[0m \u001b[0mmdFile\u001b[0m \u001b[0;34m=\u001b[0m \u001b[0mutils\u001b[0m\u001b[0;34m.\u001b[0m\u001b[0mcraft_header\u001b[0m\u001b[0;34m(\u001b[0m\u001b[0mmdFile\u001b[0m\u001b[0;34m,\u001b[0m\u001b[0msingle_cell_papers\u001b[0m\u001b[0;34m)\u001b[0m\u001b[0;34m\u001b[0m\u001b[0;34m\u001b[0m\u001b[0m\n\u001b[0;32m---> 16\u001b[0;31m \u001b[0mmdFile\u001b[0m \u001b[0;34m=\u001b[0m \u001b[0mutils\u001b[0m\u001b[0;34m.\u001b[0m\u001b[0mcraft_sessions\u001b[0m\u001b[0;34m(\u001b[0m\u001b[0mmdFile\u001b[0m\u001b[0;34m,\u001b[0m\u001b[0msingle_cell_papers\u001b[0m\u001b[0;34m)\u001b[0m\u001b[0;34m\u001b[0m\u001b[0;34m\u001b[0m\u001b[0m\n\u001b[0m\u001b[1;32m     17\u001b[0m \u001b[0;34m\u001b[0m\u001b[0m\n\u001b[1;32m     18\u001b[0m \u001b[0;34m\u001b[0m\u001b[0m\n",
      "\u001b[0;32m~/Documents/my_random_stuff/read-the-classics-karen/Europe-PMC-classics/utils/utils.py\u001b[0m in \u001b[0;36mcraft_sessions\u001b[0;34m(mdFile, single_cell_papers)\u001b[0m\n\u001b[1;32m     84\u001b[0m     \u001b[0mmdFile\u001b[0m\u001b[0;34m.\u001b[0m\u001b[0mnew_header\u001b[0m\u001b[0;34m(\u001b[0m\u001b[0;36m1\u001b[0m\u001b[0;34m,\u001b[0m \u001b[0;34m\"Big classics\"\u001b[0m\u001b[0;34m)\u001b[0m\u001b[0;34m\u001b[0m\u001b[0;34m\u001b[0m\u001b[0m\n\u001b[1;32m     85\u001b[0m     \u001b[0mbig_classics\u001b[0m \u001b[0;34m=\u001b[0m \u001b[0msingle_cell_papers\u001b[0m\u001b[0;34m[\u001b[0m\u001b[0msingle_cell_papers\u001b[0m\u001b[0;34m[\u001b[0m\u001b[0;34m'citedByCount'\u001b[0m\u001b[0;34m]\u001b[0m \u001b[0;34m>=\u001b[0m \u001b[0;36m500\u001b[0m\u001b[0;34m]\u001b[0m\u001b[0;34m\u001b[0m\u001b[0;34m\u001b[0m\u001b[0m\n\u001b[0;32m---> 86\u001b[0;31m     \u001b[0mmdFile\u001b[0m \u001b[0;34m=\u001b[0m \u001b[0madd_section_to_md\u001b[0m\u001b[0;34m(\u001b[0m\u001b[0mbig_classics\u001b[0m\u001b[0;34m,\u001b[0m \u001b[0mmdFile\u001b[0m\u001b[0;34m)\u001b[0m\u001b[0;34m\u001b[0m\u001b[0;34m\u001b[0m\u001b[0m\n\u001b[0m\u001b[1;32m     87\u001b[0m \u001b[0;34m\u001b[0m\u001b[0m\n\u001b[1;32m     88\u001b[0m     \u001b[0mmdFile\u001b[0m\u001b[0;34m.\u001b[0m\u001b[0mnew_header\u001b[0m\u001b[0;34m(\u001b[0m\u001b[0;36m1\u001b[0m\u001b[0;34m,\u001b[0m \u001b[0;34m\"Medium classics\"\u001b[0m\u001b[0;34m)\u001b[0m\u001b[0;34m\u001b[0m\u001b[0;34m\u001b[0m\u001b[0m\n",
      "\u001b[0;32m~/Documents/my_random_stuff/read-the-classics-karen/Europe-PMC-classics/utils/utils.py\u001b[0m in \u001b[0;36madd_section_to_md\u001b[0;34m(df, mdFile)\u001b[0m\n\u001b[1;32m     52\u001b[0m             \u001b[0mprint\u001b[0m\u001b[0;34m(\u001b[0m\u001b[0mnew_entry\u001b[0m\u001b[0;34m)\u001b[0m\u001b[0;34m\u001b[0m\u001b[0;34m\u001b[0m\u001b[0m\n\u001b[1;32m     53\u001b[0m \u001b[0;34m\u001b[0m\u001b[0m\n\u001b[0;32m---> 54\u001b[0;31m             \u001b[0;32mif\u001b[0m \u001b[0mrow\u001b[0m\u001b[0;34m[\u001b[0m\u001b[0;34m'title'\u001b[0m\u001b[0;34m]\u001b[0m \u001b[0;32min\u001b[0m \u001b[0mlast_week_classics\u001b[0m\u001b[0;34m[\u001b[0m\u001b[0;34m[\u001b[0m\u001b[0;34m'title'\u001b[0m\u001b[0;34m]\u001b[0m\u001b[0;34m]\u001b[0m\u001b[0;34m.\u001b[0m\u001b[0mvalues\u001b[0m\u001b[0;34m:\u001b[0m\u001b[0;34m\u001b[0m\u001b[0;34m\u001b[0m\u001b[0m\n\u001b[0m\u001b[1;32m     55\u001b[0m                 \u001b[0mmdFile\u001b[0m\u001b[0;34m.\u001b[0m\u001b[0mnew_line\u001b[0m\u001b[0;34m(\u001b[0m\u001b[0mnew_entry\u001b[0m\u001b[0;34m)\u001b[0m\u001b[0;34m\u001b[0m\u001b[0;34m\u001b[0m\u001b[0m\n\u001b[1;32m     56\u001b[0m \u001b[0;34m\u001b[0m\u001b[0m\n",
      "\u001b[0;31mNameError\u001b[0m: name 'last_week_classics' is not defined"
     ]
    }
   ],
   "source": [
    "from utils import utils\n",
    "import pandas as pd\n",
    "from mdutils.mdutils import MdUtils\n",
    "\n",
    "term = \"%22single-cell%20RNA-seq%22\"\n",
    "\n",
    "single_cell_papers = utils.get_papers(term, min_citation = 150)\n",
    "single_cell_papers\n",
    "\n",
    "\n",
    "last_week_classics = pd.read_csv('current_papers.csv')\n",
    "\n",
    "mdFile = MdUtils(file_name='README', title='Classic citations from the Europe PMC database')\n",
    "\n",
    "mdFile = utils.craft_header(mdFile,single_cell_papers)\n",
    "mdFile = utils.craft_sessions(mdFile,single_cell_papers, last_week_classics)\n",
    "\n",
    "\n",
    "single_cell_papers.to_csv('current_papers.csv')\n",
    "\n",
    "mdFile = utils.craft_date(mdFile)\n",
    "mdFile.create_md_file()\n"
   ]
  },
  {
   "cell_type": "markdown",
   "metadata": {},
   "source": [
    "Cool, now we have our database of interest: all articles with more than 150 citations in EuropePMC about \"single-cell RNA sequencing\". \n",
    "\n",
    "The goal now is to turn this database into a markdown, user-friendly list. \n",
    "\n",
    "We will start by creating a base markdown file\n"
   ]
  },
  {
   "cell_type": "code",
   "execution_count": 9,
   "metadata": {},
   "outputs": [
    {
     "data": {
      "text/plain": [
       "\"\\n# Overview\\n\\n\\nLet's start looking for classic citations at the EuropePMC database.Once more, we will use naive definitions of citation classics.  \\n  \\n* Classics are all cited more than 150 times.  \\n* Big classics: more than 500 citations  \\n* Medium classics: at least 300 citations, less than 500  \\n* Small classics: at least 150 citations, less than 300\\n  \\nCurrently, we have 133 classics that meet the criteria above:  \\n\""
      ]
     },
     "execution_count": 9,
     "metadata": {},
     "output_type": "execute_result"
    }
   ],
   "source": [
    "import pandas as pd\n",
    "from mdutils.mdutils import MdUtils\n",
    "\n",
    "last_week_classics = pd.read_csv('current_papers.csv')\n",
    "\n",
    "\n",
    "mdFile = MdUtils(file_name='README', title='Classic citations from the Europe PMC database')\n",
    "\n",
    "mdFile.new_header(level=1, title='Overview')\n",
    "mdFile.new_paragraph(\"Let's start looking for classic citations at the EuropePMC database.Once more, we will use naive definitions of citation classics.\") \n",
    "\n",
    "mdFile.new_line()\n",
    "mdFile.new_line(\"* Classics are all cited more than 150 times.\")\n",
    "mdFile.new_line(\"* Big classics: more than 500 citations\")\n",
    "mdFile.new_line(\"* Medium classics: at least 300 citations, less than 500\")\n",
    "mdFile.new_line(\"* Small classics: at least 150 citations, less than 300\\n\")\n",
    "\n",
    "\n",
    "mdFile.new_line(\"Currently, we have \" + str(single_cell_papers.shape[0]) + \" classics that meet the criteria above:\")\n",
    "mdFile.new_line()\n"
   ]
  },
  {
   "cell_type": "code",
   "execution_count": 11,
   "metadata": {},
   "outputs": [
    {
     "name": "stdout",
     "output_type": "stream",
     "text": [
      "* Butler A et al, [Integrating single-cell transcriptomic data across different conditions, technologies, and species.](https://europepmc.org/article/MED/29608179)\n",
      "* Zheng GX et al, [Massively parallel digital transcriptional profiling of single cells.](https://europepmc.org/article/MED/28091601)\n",
      "* Tirosh I et al, [Dissecting the multicellular ecosystem of metastatic melanoma by single-cell RNA-seq.](https://europepmc.org/article/MED/27124452)\n",
      "* Klein AM et al, [Droplet barcoding for single-cell transcriptomics applied to embryonic stem cells.](https://europepmc.org/article/MED/26000487)\n",
      "* Macosko EZ et al, [Highly Parallel Genome-wide Expression Profiling of Individual Cells Using Nanoliter Droplets.](https://europepmc.org/article/MED/26000488)\n",
      "* Satija R et al, [Spatial reconstruction of single-cell gene expression data.](https://europepmc.org/article/MED/25867923)\n",
      "* Zeisel A et al, [Brain structure. Cell types in the mouse cortex and hippocampus revealed by single-cell RNA-seq.](https://europepmc.org/article/MED/25700174)\n",
      "* Jaitin DA et al, [Massively parallel single-cell RNA-seq for marker-free decomposition of tissues into cell types.](https://europepmc.org/article/MED/24531970)\n",
      "* Lavin Y et al, [Tissue-resident macrophage enhancer landscapes are shaped by the local microenvironment.](https://europepmc.org/article/MED/25480296)\n",
      "* Patel AP et al, [Single-cell RNA-seq highlights intratumoral heterogeneity in primary glioblastoma.](https://europepmc.org/article/MED/24925914)\n",
      "* Picelli S et al, [Full-length RNA-seq from single cells using Smart-seq2.](https://europepmc.org/article/MED/24385147)\n",
      "* Trapnell C et al, [The dynamics and regulators of cell fate decisions are revealed by pseudotemporal ordering of single cells.](https://europepmc.org/article/MED/24658644)\n",
      "* Treutlein B et al, [Reconstructing lineage hierarchies of the distal lung epithelium using single-cell RNA-seq.](https://europepmc.org/article/MED/24739965)\n",
      "* Shalek AK et al, [Single-cell transcriptomics reveals bimodality in expression and splicing in immune cells.](https://europepmc.org/article/MED/23685454)\n",
      "* Yan L et al, [Single-cell RNA-Seq profiling of human preimplantation embryos and embryonic stem cells.](https://europepmc.org/article/MED/23934149)\n",
      "* Ramsköld D et al, [Full-length mRNA-Seq from single-cell levels of RNA and individual circulating tumor cells.](https://europepmc.org/article/MED/22820318)\n",
      "* Afgan E et al, [The Galaxy platform for accessible, reproducible and collaborative biomedical analyses: 2018 update.](https://europepmc.org/article/MED/29790989)\n",
      "* Thorsson V et al, [The Immune Landscape of Cancer.](https://europepmc.org/article/MED/29628290)\n",
      "* Keren-Shaul H et al, [A Unique Microglia Type Associated with Restricting Development of Alzheimer's Disease.](https://europepmc.org/article/MED/28602351)\n",
      "* Ott PA et al, [An immunogenic personal neoantigen vaccine for patients with melanoma.](https://europepmc.org/article/MED/28678778)\n",
      "* Villani AC et al, [Single-cell RNA-seq reveals new types of human blood dendritic cells, monocytes, and progenitors.](https://europepmc.org/article/MED/28428369)\n",
      "* Conesa A et al, [A survey of best practices for RNA-seq data analysis.](https://europepmc.org/article/MED/26813401)\n",
      "* Massagué J et al, [Metastatic colonization by circulating tumour cells.](https://europepmc.org/article/MED/26791720)\n",
      "* Tasic B et al, [Adult mouse cortical cell taxonomy revealed by single cell transcriptomics.](https://europepmc.org/article/MED/26727548)\n",
      "* Buenrostro JD et al, [Single-cell chromatin accessibility reveals principles of regulatory variation.](https://europepmc.org/article/MED/26083756)\n",
      "* Erny D et al, [Host microbiota constantly control maturation and function of microglia in the CNS.](https://europepmc.org/article/MED/26030851)\n",
      "* Levine JH et al, [Data-Driven Phenotypic Dissection of AML Reveals Progenitor-like Cells that Correlate with Prognosis.](https://europepmc.org/article/MED/26095251)\n",
      "* Stegle O et al, [Computational and analytical challenges in single-cell transcriptomics.](https://europepmc.org/article/MED/25628217)\n",
      "* Usoskin D et al, [Unbiased classification of sensory neuron types by large-scale single-cell RNA sequencing.](https://europepmc.org/article/MED/25420068)\n",
      "* Bendall SC et al, [Single-cell trajectory detection uncovers progression and regulatory coordination in human B cell development.](https://europepmc.org/article/MED/24766814)\n",
      "* Deng Q et al, [Single-cell RNA-seq reveals dynamic, random monoallelic gene expression in mammalian cells.](https://europepmc.org/article/MED/24408435)\n",
      "* Islam S et al, [Quantitative single-cell RNA-seq with unique molecular identifiers.](https://europepmc.org/article/MED/24363023)\n",
      "* Kharchenko PV et al, [Bayesian approach to single-cell differential expression analysis.](https://europepmc.org/article/MED/24836921)\n",
      "* Lara-Astiaso D et al, [Immunogenetics. Chromatin state dynamics during blood formation.](https://europepmc.org/article/MED/25103404)\n",
      "* Risso D et al, [Normalization of RNA-seq data using factor analysis of control genes or samples.](https://europepmc.org/article/MED/25150836)\n",
      "* Shalek AK et al, [Single-cell RNA-seq reveals dynamic paracrine control of cellular variation.](https://europepmc.org/article/MED/24919153)\n",
      "* Takashima Y et al, [Resetting transcription factor control circuitry toward ground-state pluripotency in human.](https://europepmc.org/article/MED/25215486)\n",
      "* Theunissen TW et al, [Systematic identification of culture conditions for induction and maintenance of naive human pluripotency.](https://europepmc.org/article/MED/25090446)\n",
      "* Wu AR et al, [Quantitative assessment of single-cell RNA-sequencing methods.](https://europepmc.org/article/MED/24141493)\n",
      "* Wu H et al, [Reversing DNA methylation: mechanisms, genomics, and biological functions.](https://europepmc.org/article/MED/24439369)\n",
      "* Blaschke K et al, [Vitamin C induces Tet-dependent DNA demethylation and a blastocyst-like state in ES cells.](https://europepmc.org/article/MED/23812591)\n",
      "* Brennecke P et al, [Accounting for technical noise in single-cell RNA-seq experiments.](https://europepmc.org/article/MED/24056876)\n",
      "* Hackett JA et al, [Germline DNA demethylation dynamics and imprint erasure through 5-hydroxymethylcytosine.](https://europepmc.org/article/MED/23223451)\n",
      "* Xue Z et al, [Genetic programs in human and mouse early embryos revealed by single-cell RNA sequencing.](https://europepmc.org/article/MED/23892778)\n",
      "* Buganim Y et al, [Single-cell expression analyses during cellular reprogramming reveal an early stochastic and a late hierarchic phase.](https://europepmc.org/article/MED/22980981)\n",
      "* Hashimshony T et al, [CEL-Seq: single-cell RNA-Seq by multiplexed linear amplification.](https://europepmc.org/article/MED/22939981)\n",
      "* Islam S et al, [Characterization of the single-cell transcriptional landscape by highly multiplex RNA-seq.](https://europepmc.org/article/MED/21543516)\n",
      "* Kalsotra A et al, [Functional consequences of developmentally regulated alternative splicing.](https://europepmc.org/article/MED/21921927)\n",
      "* Hanna JH et al, [Pluripotency and cellular reprogramming: facts, hypotheses, unresolved issues.](https://europepmc.org/article/MED/21074044)\n",
      "* Shi S et al, [Association of Cardiac Injury With Mortality in Hospitalized Patients With COVID-19 in Wuhan, China.](https://europepmc.org/article/MED/32211816)\n",
      "* Xu H et al, [High expression of ACE2 receptor of 2019-nCoV on the epithelial cells of oral mucosa.](https://europepmc.org/article/MED/32094336)\n",
      "* Stuart T et al, [Comprehensive Integration of Single-Cell Data.](https://europepmc.org/article/MED/31178118)\n",
      "* Binnewies M et al, [Understanding the tumor immune microenvironment (TIME) for effective therapy.](https://europepmc.org/article/MED/29686425)\n",
      "* Zeisel A et al, [Molecular Architecture of the Mouse Nervous System.](https://europepmc.org/article/MED/30096314)\n",
      "* Birey F et al, [Assembly of functionally integrated human forebrain spheroids.](https://europepmc.org/article/MED/28445465)\n",
      "* Cao J et al, [Comprehensive single-cell transcriptional profiling of a multicellular organism.](https://europepmc.org/article/MED/28818938)\n",
      "* Haber AL et al, [A single-cell survey of the small intestinal epithelium.](https://europepmc.org/article/MED/29144463)\n",
      "* Hulsmans M et al, [Macrophages Facilitate Electrical Conduction in the Heart.](https://europepmc.org/article/MED/28431249)\n",
      "* Kiselev VY et al, [SC3: consensus clustering of single-cell RNA-seq data.](https://europepmc.org/article/MED/28346451)\n",
      "* Lavin Y et al, [Innate Immune Landscape in Early Lung Adenocarcinoma by Paired Single-Cell Analyses.](https://europepmc.org/article/MED/28475900)\n",
      "* Lim WA et al, [The Principles of Engineering Immune Cells to Treat Cancer.](https://europepmc.org/article/MED/28187291)\n",
      "* Mackenzie KJ et al, [cGAS surveillance of micronuclei links genome instability to innate immunity.](https://europepmc.org/article/MED/28738408)\n",
      "* McCarthy DJ et al, [Scater: pre-processing, quality control, normalization and visualization of single-cell RNA-seq data in R.](https://europepmc.org/article/MED/28088763)\n",
      "* Puram SV et al, [Single-Cell Transcriptomic Analysis of Primary and Metastatic Tumor Ecosystems in Head and Neck Cancer.](https://europepmc.org/article/MED/29198524)\n",
      "* Qiu X et al, [Reversed graph embedding resolves complex single-cell trajectories.](https://europepmc.org/article/MED/28825705)\n",
      "* Qiu X et al, [Single-cell mRNA quantification and differential analysis with Census.](https://europepmc.org/article/MED/28114287)\n",
      "* Regev A et al, [The Human Cell Atlas.](https://europepmc.org/article/MED/29206104)\n",
      "* Shaffer SM et al, [Rare cell variability and drug-induced reprogramming as a mode of cancer drug resistance.](https://europepmc.org/article/MED/28607484)\n",
      "* Stoeckius M et al, [Simultaneous epitope and transcriptome measurement in single cells.](https://europepmc.org/article/MED/28759029)\n",
      "* Wang Q et al, [Tumor Evolution of Glioma-Intrinsic Gene Expression Subtypes Associates with Immunological Changes in the Microenvironment.](https://europepmc.org/article/MED/28697342)\n",
      "* Ziegenhain C et al, [Comparative Analysis of Single-Cell RNA Sequencing Methods.](https://europepmc.org/article/MED/28212749)\n",
      "* Adamson B et al, [A Multiplexed Single-Cell CRISPR Screening Platform Enables Systematic Dissection of the Unfolded Protein Response.](https://europepmc.org/article/MED/27984733)\n",
      "* Baron M et al, [A Single-Cell Transcriptomic Map of the Human and Mouse Pancreas Reveals Inter- and Intra-cell Population Structure.](https://europepmc.org/article/MED/27667365)\n",
      "* Dixit A et al, [Perturb-Seq: Dissecting Molecular Circuits with Scalable Single-Cell RNA Profiling of Pooled Genetic Screens.](https://europepmc.org/article/MED/27984732)\n",
      "* Goldmann T et al, [Origin, fate and dynamics of macrophages at central nervous system interfaces.](https://europepmc.org/article/MED/27135602)\n",
      "* Hashimshony T et al, [CEL-Seq2: sensitive highly-multiplexed single-cell RNA-Seq.](https://europepmc.org/article/MED/27121950)\n",
      "* Kiehn O. et al, [Decoding the organization of spinal circuits that control locomotion.](https://europepmc.org/article/MED/26935168)\n",
      "* Lake BB et al, [Neuronal subtypes and diversity revealed by single-nucleus RNA sequencing of the human brain.](https://europepmc.org/article/MED/27339989)\n",
      "* Lun AT et al, [Pooling across cells to normalize single-cell RNA sequencing data with many zero counts.](https://europepmc.org/article/MED/27122128)\n",
      "* Malladi S et al, [Metastatic Latency and Immune Evasion through Autocrine Inhibition of WNT.](https://europepmc.org/article/MED/27015306)\n",
      "* Marques S et al, [Oligodendrocyte heterogeneity in the mouse juvenile and adult central nervous system.](https://europepmc.org/article/MED/27284195)\n",
      "* Mass E et al, [Specification of tissue-resident macrophages during organogenesis.](https://europepmc.org/article/MED/27492475)\n",
      "* McKenna A et al, [Whole-organism lineage tracing by combinatorial and cumulative genome editing.](https://europepmc.org/article/MED/27229144)\n",
      "* Nowakowski TJ et al, [Expression Analysis Highlights AXL as a Candidate Zika Virus Entry Receptor in Neural Stem Cells.](https://europepmc.org/article/MED/27038591)\n",
      "* Petropoulos S et al, [Single-Cell RNA-Seq Reveals Lineage and X Chromosome Dynamics in Human Preimplantation Embryos.](https://europepmc.org/article/MED/27062923)\n",
      "* Petryszak R et al, [Expression Atlas update--an integrated database of gene and protein expression in humans, animals and plants.](https://europepmc.org/article/MED/26481351)\n",
      "* Schmitz SU et al, [Mechanisms of long noncoding RNA function in development and disease.](https://europepmc.org/article/MED/27007508)\n",
      "* Scotti MM et al, [RNA mis-splicing in disease.](https://europepmc.org/article/MED/26593421)\n",
      "* Segerstolpe Å et al, [Single-Cell Transcriptome Profiling of Human Pancreatic Islets in Health and Type 2 Diabetes.](https://europepmc.org/article/MED/27667667)\n",
      "* Setty M et al, [Wishbone identifies bifurcating developmental trajectories from single-cell data.](https://europepmc.org/article/MED/27136076)\n",
      "* Sharma U et al, [Biogenesis and function of tRNA fragments during sperm maturation and fertilization in mammals.](https://europepmc.org/article/MED/26721685)\n",
      "* Shekhar K et al, [Comprehensive Classification of Retinal Bipolar Neurons by Single-Cell Transcriptomics.](https://europepmc.org/article/MED/27565351)\n",
      "* Spitzer MH et al, [Mass Cytometry: Single Cells, Many Features.](https://europepmc.org/article/MED/27153492)\n",
      "* Sweeney MD et al, [Pericytes of the neurovascular unit: key functions and signaling pathways.](https://europepmc.org/article/MED/27227366)\n",
      "* Tirosh I et al, [Single-cell RNA-seq supports a developmental hierarchy in human oligodendroglioma.](https://europepmc.org/article/MED/27806376)\n",
      "* Tremblay R et al, [GABAergic Interneurons in the Neocortex: From Cellular Properties to Circuits.](https://europepmc.org/article/MED/27477017)\n",
      "* Wang J et al, [Clonal evolution of glioblastoma under therapy.](https://europepmc.org/article/MED/27270107)\n",
      "* Zheng GX et al, [Haplotyping germline and cancer genomes with high-throughput linked-read sequencing.](https://europepmc.org/article/MED/26829319)\n",
      "* Alizadeh AA et al, [Toward understanding and exploiting tumor heterogeneity.](https://europepmc.org/article/MED/26248267)\n",
      "* Anahtar MN et al, [Cervicovaginal bacteria are a major modulator of host inflammatory responses in the female genital tract.](https://europepmc.org/article/MED/25992865)\n",
      "* Bond AM et al, [Adult Mammalian Neural Stem Cells and Neurogenesis: Five Decades Later.](https://europepmc.org/article/MED/26431181)\n",
      "* Camp JG et al, [Human cerebral organoids recapitulate gene expression programs of fetal neocortex development.](https://europepmc.org/article/MED/26644564)\n",
      "* Chan CK et al, [Identification and specification of the mouse skeletal stem cell.](https://europepmc.org/article/MED/25594184)\n",
      "* Cusanovich DA et al, [Multiplex single cell profiling of chromatin accessibility by combinatorial cellular indexing.](https://europepmc.org/article/MED/25953818)\n",
      "* Dey SS et al, [Integrated genome and transcriptome sequencing of the same cell.](https://europepmc.org/article/MED/25599178)\n",
      "* Finak G et al, [MAST: a flexible statistical framework for assessing transcriptional changes and characterizing heterogeneity in single-cell RNA sequencing data.](https://europepmc.org/article/MED/26653891)\n",
      "* Gaublomme JT et al, [Single-Cell Genomics Unveils Critical Regulators of Th17 Cell Pathogenicity.](https://europepmc.org/article/MED/26607794)\n",
      "* Grow EJ et al, [Intrinsic retroviral reactivation in human preimplantation embryos and pluripotent cells.](https://europepmc.org/article/MED/25896322)\n",
      "* Lee JW et al, [Deep Sequencing in Microdissected Renal Tubules Identifies Nephron Segment-Specific Transcriptomes.](https://europepmc.org/article/MED/25817355)\n",
      "* Parnas O et al, [A Genome-wide CRISPR Screen in Primary Immune Cells to Dissect Regulatory Networks.](https://europepmc.org/article/MED/26189680)\n",
      "* Pollen AA et al, [Molecular identity of human outer radial glia during cortical development.](https://europepmc.org/article/MED/26406371)\n",
      "* Rotem A et al, [Single-cell ChIP-seq reveals cell subpopulations defined by chromatin state.](https://europepmc.org/article/MED/26458175)\n",
      "* Shin J et al, [Single-Cell RNA-Seq with Waterfall Reveals Molecular Cascades underlying Adult Neurogenesis.](https://europepmc.org/article/MED/26299571)\n",
      "* Trapnell C. et al, [Defining cell types and states with single-cell genomics.](https://europepmc.org/article/MED/26430159)\n",
      "* Vaughan AE et al, [Lineage-negative progenitors mobilize to regenerate lung epithelium after major injury.](https://europepmc.org/article/MED/25533958)\n",
      "* Wang Y et al, [Advances and applications of single-cell sequencing technologies.](https://europepmc.org/article/MED/26000845)\n",
      "* Wilson NK et al, [Combined Single-Cell Functional and Gene Expression Analysis Resolves Heterogeneity within Stem Cell Populations.](https://europepmc.org/article/MED/26004780)\n",
      "* Benayoun BA et al, [H3K4me3 breadth is linked to cell identity and transcriptional consistency.](https://europepmc.org/article/MED/25083876)\n",
      "* Boroviak T et al, [The ability of inner-cell-mass cells to self-renew as embryonic stem cells is acquired following epiblast specification.](https://europepmc.org/article/MED/24859004)\n",
      "* Hogan BL et al, [Repair and regeneration of the respiratory system: complexity, plasticity, and mechanisms of lung stem cell function.](https://europepmc.org/article/MED/25105578)\n",
      "* Kotton DN et al, [Lung regeneration: mechanisms, applications and emerging stem cell populations.](https://europepmc.org/article/MED/25100528)\n",
      "* Kumar RM et al, [Deconstructing transcriptional heterogeneity in pluripotent stem cells.](https://europepmc.org/article/MED/25471879)\n",
      "* Macaulay IC et al, [Single cell genomics: advances and future perspectives.](https://europepmc.org/article/MED/24497842)\n",
      "* Marinov GK et al, [From single-cell to cell-pool transcriptomes: stochasticity in gene expression and RNA splicing.](https://europepmc.org/article/MED/24299736)\n",
      "* Pollen AA et al, [Low-coverage single-cell mRNA sequencing reveals cellular heterogeneity and activated signaling pathways in developing cerebral cortex.](https://europepmc.org/article/MED/25086649)\n",
      "* Saliba AE et al, [Single-cell RNA-seq: advances and future challenges.](https://europepmc.org/article/MED/25053837)\n",
      "* Smith ZD et al, [DNA methylation dynamics of the human preimplantation embryo.](https://europepmc.org/article/MED/25079558)\n",
      "* Ting DT et al, [Single-cell RNA sequencing identifies extracellular matrix gene expression by pancreatic circulating tumor cells.](https://europepmc.org/article/MED/25242334)\n",
      "* Guo H et al, [Single-cell methylome landscapes of mouse embryonic stem cells and early embryos analyzed using reduced representation bisulfite sequencing.](https://europepmc.org/article/MED/24179143)\n",
      "* Leitch HG et al, [Naive pluripotency is associated with global DNA hypomethylation.](https://europepmc.org/article/MED/23416945)\n",
      "* Shyh-Chang N et al, [Lin28: primal regulator of growth and metabolism in stem cells.](https://europepmc.org/article/MED/23561442)\n",
      "* Tang F et al, [Tracing the derivation of embryonic stem cells from the inner cell mass by single-cell RNA-Seq analysis.](https://europepmc.org/article/MED/20452321)\n",
      "* Tang F et al, [RNA-Seq analysis to capture the transcriptome landscape of a single cell.](https://europepmc.org/article/MED/20203668)\n"
     ]
    }
   ],
   "source": []
  },
  {
   "cell_type": "code",
   "execution_count": 12,
   "metadata": {},
   "outputs": [
    {
     "data": {
      "text/plain": [
       "\"\\n# Overview\\n\\n\\nLet's start looking for classic citations at the EuropePMC database.Once more, we will use naive definitions of citation classics.  \\n  \\n* Classics are all cited more than 150 times.  \\n* Big classics: more than 500 citations  \\n* Medium classics: at least 300 citations, less than 500  \\n* Small classics: at least 150 citations, less than 300\\n  \\nCurrently, we have 133 classics that meet the criteria above:  \\n\\n# Big classics\\n\\n## 2018\\n  \\n* Butler A et al, [Integrating single-cell transcriptomic data across different conditions, technologies, and species.](https://europepmc.org/article/MED/29608179)  \\n\\n## 2017\\n  \\n* Zheng GX et al, [Massively parallel digital transcriptional profiling of single cells.](https://europepmc.org/article/MED/28091601)  \\n\\n## 2016\\n  \\n* Tirosh I et al, [Dissecting the multicellular ecosystem of metastatic melanoma by single-cell RNA-seq.](https://europepmc.org/article/MED/27124452)  \\n\\n## 2015\\n  \\n* Klein AM et al, [Droplet barcoding for single-cell transcriptomics applied to embryonic stem cells.](https://europepmc.org/article/MED/26000487)  \\n* Macosko EZ et al, [Highly Parallel Genome-wide Expression Profiling of Individual Cells Using Nanoliter Droplets.](https://europepmc.org/article/MED/26000488)  \\n* Satija R et al, [Spatial reconstruction of single-cell gene expression data.](https://europepmc.org/article/MED/25867923)  \\n* Zeisel A et al, [Brain structure. Cell types in the mouse cortex and hippocampus revealed by single-cell RNA-seq.](https://europepmc.org/article/MED/25700174)  \\n\\n## 2014\\n  \\n* Jaitin DA et al, [Massively parallel single-cell RNA-seq for marker-free decomposition of tissues into cell types.](https://europepmc.org/article/MED/24531970)  \\n* Lavin Y et al, [Tissue-resident macrophage enhancer landscapes are shaped by the local microenvironment.](https://europepmc.org/article/MED/25480296)  \\n* Patel AP et al, [Single-cell RNA-seq highlights intratumoral heterogeneity in primary glioblastoma.](https://europepmc.org/article/MED/24925914)  \\n* Picelli S et al, [Full-length RNA-seq from single cells using Smart-seq2.](https://europepmc.org/article/MED/24385147)  \\n* Trapnell C et al, [The dynamics and regulators of cell fate decisions are revealed by pseudotemporal ordering of single cells.](https://europepmc.org/article/MED/24658644)  \\n* Treutlein B et al, [Reconstructing lineage hierarchies of the distal lung epithelium using single-cell RNA-seq.](https://europepmc.org/article/MED/24739965)  \\n\\n## 2013\\n  \\n* Shalek AK et al, [Single-cell transcriptomics reveals bimodality in expression and splicing in immune cells.](https://europepmc.org/article/MED/23685454)  \\n* Yan L et al, [Single-cell RNA-Seq profiling of human preimplantation embryos and embryonic stem cells.](https://europepmc.org/article/MED/23934149)  \\n\\n## 2012\\n  \\n* Ramsköld D et al, [Full-length mRNA-Seq from single-cell levels of RNA and individual circulating tumor cells.](https://europepmc.org/article/MED/22820318)  \\n\\n# Medium classics\\n\\n## 2018\\n  \\n* Afgan E et al, [The Galaxy platform for accessible, reproducible and collaborative biomedical analyses: 2018 update.](https://europepmc.org/article/MED/29790989)  \\n* Thorsson V et al, [The Immune Landscape of Cancer.](https://europepmc.org/article/MED/29628290)  \\n\\n## 2017\\n  \\n* Keren-Shaul H et al, [A Unique Microglia Type Associated with Restricting Development of Alzheimer's Disease.](https://europepmc.org/article/MED/28602351)  \\n* Ott PA et al, [An immunogenic personal neoantigen vaccine for patients with melanoma.](https://europepmc.org/article/MED/28678778)  \\n* Villani AC et al, [Single-cell RNA-seq reveals new types of human blood dendritic cells, monocytes, and progenitors.](https://europepmc.org/article/MED/28428369)  \\n\\n## 2016\\n  \\n* Conesa A et al, [A survey of best practices for RNA-seq data analysis.](https://europepmc.org/article/MED/26813401)  \\n* Massagué J et al, [Metastatic colonization by circulating tumour cells.](https://europepmc.org/article/MED/26791720)  \\n* Tasic B et al, [Adult mouse cortical cell taxonomy revealed by single cell transcriptomics.](https://europepmc.org/article/MED/26727548)  \\n\\n## 2015\\n  \\n* Buenrostro JD et al, [Single-cell chromatin accessibility reveals principles of regulatory variation.](https://europepmc.org/article/MED/26083756)  \\n* Erny D et al, [Host microbiota constantly control maturation and function of microglia in the CNS.](https://europepmc.org/article/MED/26030851)  \\n* Levine JH et al, [Data-Driven Phenotypic Dissection of AML Reveals Progenitor-like Cells that Correlate with Prognosis.](https://europepmc.org/article/MED/26095251)  \\n* Stegle O et al, [Computational and analytical challenges in single-cell transcriptomics.](https://europepmc.org/article/MED/25628217)  \\n* Usoskin D et al, [Unbiased classification of sensory neuron types by large-scale single-cell RNA sequencing.](https://europepmc.org/article/MED/25420068)  \\n\\n## 2014\\n  \\n* Bendall SC et al, [Single-cell trajectory detection uncovers progression and regulatory coordination in human B cell development.](https://europepmc.org/article/MED/24766814)  \\n* Deng Q et al, [Single-cell RNA-seq reveals dynamic, random monoallelic gene expression in mammalian cells.](https://europepmc.org/article/MED/24408435)  \\n* Islam S et al, [Quantitative single-cell RNA-seq with unique molecular identifiers.](https://europepmc.org/article/MED/24363023)  \\n* Kharchenko PV et al, [Bayesian approach to single-cell differential expression analysis.](https://europepmc.org/article/MED/24836921)  \\n* Lara-Astiaso D et al, [Immunogenetics. Chromatin state dynamics during blood formation.](https://europepmc.org/article/MED/25103404)  \\n* Risso D et al, [Normalization of RNA-seq data using factor analysis of control genes or samples.](https://europepmc.org/article/MED/25150836)  \\n* Shalek AK et al, [Single-cell RNA-seq reveals dynamic paracrine control of cellular variation.](https://europepmc.org/article/MED/24919153)  \\n* Takashima Y et al, [Resetting transcription factor control circuitry toward ground-state pluripotency in human.](https://europepmc.org/article/MED/25215486)  \\n* Theunissen TW et al, [Systematic identification of culture conditions for induction and maintenance of naive human pluripotency.](https://europepmc.org/article/MED/25090446)  \\n* Wu AR et al, [Quantitative assessment of single-cell RNA-sequencing methods.](https://europepmc.org/article/MED/24141493)  \\n* Wu H et al, [Reversing DNA methylation: mechanisms, genomics, and biological functions.](https://europepmc.org/article/MED/24439369)  \\n\\n## 2013\\n  \\n* Blaschke K et al, [Vitamin C induces Tet-dependent DNA demethylation and a blastocyst-like state in ES cells.](https://europepmc.org/article/MED/23812591)  \\n* Brennecke P et al, [Accounting for technical noise in single-cell RNA-seq experiments.](https://europepmc.org/article/MED/24056876)  \\n* Hackett JA et al, [Germline DNA demethylation dynamics and imprint erasure through 5-hydroxymethylcytosine.](https://europepmc.org/article/MED/23223451)  \\n* Xue Z et al, [Genetic programs in human and mouse early embryos revealed by single-cell RNA sequencing.](https://europepmc.org/article/MED/23892778)  \\n\\n## 2012\\n  \\n* Buganim Y et al, [Single-cell expression analyses during cellular reprogramming reveal an early stochastic and a late hierarchic phase.](https://europepmc.org/article/MED/22980981)  \\n* Hashimshony T et al, [CEL-Seq: single-cell RNA-Seq by multiplexed linear amplification.](https://europepmc.org/article/MED/22939981)  \\n\\n## 2011\\n  \\n* Islam S et al, [Characterization of the single-cell transcriptional landscape by highly multiplex RNA-seq.](https://europepmc.org/article/MED/21543516)  \\n* Kalsotra A et al, [Functional consequences of developmentally regulated alternative splicing.](https://europepmc.org/article/MED/21921927)  \\n\\n## 2010\\n  \\n* Hanna JH et al, [Pluripotency and cellular reprogramming: facts, hypotheses, unresolved issues.](https://europepmc.org/article/MED/21074044)  \\n\\n# Small classics\\n\\n## 2020\\n  \\n* Shi S et al, [Association of Cardiac Injury With Mortality in Hospitalized Patients With COVID-19 in Wuhan, China.](https://europepmc.org/article/MED/32211816)  \\n* Xu H et al, [High expression of ACE2 receptor of 2019-nCoV on the epithelial cells of oral mucosa.](https://europepmc.org/article/MED/32094336)  \\n\\n## 2019\\n  \\n* Stuart T et al, [Comprehensive Integration of Single-Cell Data.](https://europepmc.org/article/MED/31178118)  \\n\\n## 2018\\n  \\n* Binnewies M et al, [Understanding the tumor immune microenvironment (TIME) for effective therapy.](https://europepmc.org/article/MED/29686425)  \\n* Zeisel A et al, [Molecular Architecture of the Mouse Nervous System.](https://europepmc.org/article/MED/30096314)  \\n\\n## 2017\\n  \\n* Birey F et al, [Assembly of functionally integrated human forebrain spheroids.](https://europepmc.org/article/MED/28445465)  \\n* Cao J et al, [Comprehensive single-cell transcriptional profiling of a multicellular organism.](https://europepmc.org/article/MED/28818938)  \\n* Haber AL et al, [A single-cell survey of the small intestinal epithelium.](https://europepmc.org/article/MED/29144463)  \\n* Hulsmans M et al, [Macrophages Facilitate Electrical Conduction in the Heart.](https://europepmc.org/article/MED/28431249)  \\n* Kiselev VY et al, [SC3: consensus clustering of single-cell RNA-seq data.](https://europepmc.org/article/MED/28346451)  \\n* Lavin Y et al, [Innate Immune Landscape in Early Lung Adenocarcinoma by Paired Single-Cell Analyses.](https://europepmc.org/article/MED/28475900)  \\n* Lim WA et al, [The Principles of Engineering Immune Cells to Treat Cancer.](https://europepmc.org/article/MED/28187291)  \\n* Mackenzie KJ et al, [cGAS surveillance of micronuclei links genome instability to innate immunity.](https://europepmc.org/article/MED/28738408)  \\n* McCarthy DJ et al, [Scater: pre-processing, quality control, normalization and visualization of single-cell RNA-seq data in R.](https://europepmc.org/article/MED/28088763)  \\n* Puram SV et al, [Single-Cell Transcriptomic Analysis of Primary and Metastatic Tumor Ecosystems in Head and Neck Cancer.](https://europepmc.org/article/MED/29198524)  \\n* Qiu X et al, [Reversed graph embedding resolves complex single-cell trajectories.](https://europepmc.org/article/MED/28825705)  \\n* Qiu X et al, [Single-cell mRNA quantification and differential analysis with Census.](https://europepmc.org/article/MED/28114287)  \\n* Regev A et al, [The Human Cell Atlas.](https://europepmc.org/article/MED/29206104)  \\n* Shaffer SM et al, [Rare cell variability and drug-induced reprogramming as a mode of cancer drug resistance.](https://europepmc.org/article/MED/28607484)  \\n* Stoeckius M et al, [Simultaneous epitope and transcriptome measurement in single cells.](https://europepmc.org/article/MED/28759029)  \\n* Wang Q et al, [Tumor Evolution of Glioma-Intrinsic Gene Expression Subtypes Associates with Immunological Changes in the Microenvironment.](https://europepmc.org/article/MED/28697342)  \\n* Ziegenhain C et al, [Comparative Analysis of Single-Cell RNA Sequencing Methods.](https://europepmc.org/article/MED/28212749)  \\n\\n## 2016\\n  \\n* Adamson B et al, [A Multiplexed Single-Cell CRISPR Screening Platform Enables Systematic Dissection of the Unfolded Protein Response.](https://europepmc.org/article/MED/27984733)  \\n* Baron M et al, [A Single-Cell Transcriptomic Map of the Human and Mouse Pancreas Reveals Inter- and Intra-cell Population Structure.](https://europepmc.org/article/MED/27667365)  \\n* Dixit A et al, [Perturb-Seq: Dissecting Molecular Circuits with Scalable Single-Cell RNA Profiling of Pooled Genetic Screens.](https://europepmc.org/article/MED/27984732)  \\n* Goldmann T et al, [Origin, fate and dynamics of macrophages at central nervous system interfaces.](https://europepmc.org/article/MED/27135602)  \\n* Hashimshony T et al, [CEL-Seq2: sensitive highly-multiplexed single-cell RNA-Seq.](https://europepmc.org/article/MED/27121950)  \\n* Kiehn O. et al, [Decoding the organization of spinal circuits that control locomotion.](https://europepmc.org/article/MED/26935168)  \\n* Lake BB et al, [Neuronal subtypes and diversity revealed by single-nucleus RNA sequencing of the human brain.](https://europepmc.org/article/MED/27339989)  \\n* Lun AT et al, [Pooling across cells to normalize single-cell RNA sequencing data with many zero counts.](https://europepmc.org/article/MED/27122128)  \\n* Malladi S et al, [Metastatic Latency and Immune Evasion through Autocrine Inhibition of WNT.](https://europepmc.org/article/MED/27015306)  \\n* Marques S et al, [Oligodendrocyte heterogeneity in the mouse juvenile and adult central nervous system.](https://europepmc.org/article/MED/27284195)  \\n* Mass E et al, [Specification of tissue-resident macrophages during organogenesis.](https://europepmc.org/article/MED/27492475)  \\n* McKenna A et al, [Whole-organism lineage tracing by combinatorial and cumulative genome editing.](https://europepmc.org/article/MED/27229144)  \\n* Nowakowski TJ et al, [Expression Analysis Highlights AXL as a Candidate Zika Virus Entry Receptor in Neural Stem Cells.](https://europepmc.org/article/MED/27038591)  \\n* Petropoulos S et al, [Single-Cell RNA-Seq Reveals Lineage and X Chromosome Dynamics in Human Preimplantation Embryos.](https://europepmc.org/article/MED/27062923)  \\n* Petryszak R et al, [Expression Atlas update--an integrated database of gene and protein expression in humans, animals and plants.](https://europepmc.org/article/MED/26481351)  \\n* Schmitz SU et al, [Mechanisms of long noncoding RNA function in development and disease.](https://europepmc.org/article/MED/27007508)  \\n* Scotti MM et al, [RNA mis-splicing in disease.](https://europepmc.org/article/MED/26593421)  \\n* Segerstolpe Å et al, [Single-Cell Transcriptome Profiling of Human Pancreatic Islets in Health and Type 2 Diabetes.](https://europepmc.org/article/MED/27667667)  \\n* Setty M et al, [Wishbone identifies bifurcating developmental trajectories from single-cell data.](https://europepmc.org/article/MED/27136076)  \\n* Sharma U et al, [Biogenesis and function of tRNA fragments during sperm maturation and fertilization in mammals.](https://europepmc.org/article/MED/26721685)  \\n* Shekhar K et al, [Comprehensive Classification of Retinal Bipolar Neurons by Single-Cell Transcriptomics.](https://europepmc.org/article/MED/27565351)  \\n* Spitzer MH et al, [Mass Cytometry: Single Cells, Many Features.](https://europepmc.org/article/MED/27153492)  \\n* Sweeney MD et al, [Pericytes of the neurovascular unit: key functions and signaling pathways.](https://europepmc.org/article/MED/27227366)  \\n* Tirosh I et al, [Single-cell RNA-seq supports a developmental hierarchy in human oligodendroglioma.](https://europepmc.org/article/MED/27806376)  \\n* Tremblay R et al, [GABAergic Interneurons in the Neocortex: From Cellular Properties to Circuits.](https://europepmc.org/article/MED/27477017)  \\n* Wang J et al, [Clonal evolution of glioblastoma under therapy.](https://europepmc.org/article/MED/27270107)  \\n* Zheng GX et al, [Haplotyping germline and cancer genomes with high-throughput linked-read sequencing.](https://europepmc.org/article/MED/26829319)  \\n\\n## 2015\\n  \\n* Alizadeh AA et al, [Toward understanding and exploiting tumor heterogeneity.](https://europepmc.org/article/MED/26248267)  \\n* Anahtar MN et al, [Cervicovaginal bacteria are a major modulator of host inflammatory responses in the female genital tract.](https://europepmc.org/article/MED/25992865)  \\n* Bond AM et al, [Adult Mammalian Neural Stem Cells and Neurogenesis: Five Decades Later.](https://europepmc.org/article/MED/26431181)  \\n* Camp JG et al, [Human cerebral organoids recapitulate gene expression programs of fetal neocortex development.](https://europepmc.org/article/MED/26644564)  \\n* Chan CK et al, [Identification and specification of the mouse skeletal stem cell.](https://europepmc.org/article/MED/25594184)  \\n* Cusanovich DA et al, [Multiplex single cell profiling of chromatin accessibility by combinatorial cellular indexing.](https://europepmc.org/article/MED/25953818)  \\n* Dey SS et al, [Integrated genome and transcriptome sequencing of the same cell.](https://europepmc.org/article/MED/25599178)  \\n* Finak G et al, [MAST: a flexible statistical framework for assessing transcriptional changes and characterizing heterogeneity in single-cell RNA sequencing data.](https://europepmc.org/article/MED/26653891)  \\n* Gaublomme JT et al, [Single-Cell Genomics Unveils Critical Regulators of Th17 Cell Pathogenicity.](https://europepmc.org/article/MED/26607794)  \\n* Grow EJ et al, [Intrinsic retroviral reactivation in human preimplantation embryos and pluripotent cells.](https://europepmc.org/article/MED/25896322)  \\n* Lee JW et al, [Deep Sequencing in Microdissected Renal Tubules Identifies Nephron Segment-Specific Transcriptomes.](https://europepmc.org/article/MED/25817355)  \\n* Parnas O et al, [A Genome-wide CRISPR Screen in Primary Immune Cells to Dissect Regulatory Networks.](https://europepmc.org/article/MED/26189680)  \\n* Pollen AA et al, [Molecular identity of human outer radial glia during cortical development.](https://europepmc.org/article/MED/26406371)  \\n* Rotem A et al, [Single-cell ChIP-seq reveals cell subpopulations defined by chromatin state.](https://europepmc.org/article/MED/26458175)  \\n* Shin J et al, [Single-Cell RNA-Seq with Waterfall Reveals Molecular Cascades underlying Adult Neurogenesis.](https://europepmc.org/article/MED/26299571)  \\n* Trapnell C. et al, [Defining cell types and states with single-cell genomics.](https://europepmc.org/article/MED/26430159)  \\n* Vaughan AE et al, [Lineage-negative progenitors mobilize to regenerate lung epithelium after major injury.](https://europepmc.org/article/MED/25533958)  \\n* Wang Y et al, [Advances and applications of single-cell sequencing technologies.](https://europepmc.org/article/MED/26000845)  \\n* Wilson NK et al, [Combined Single-Cell Functional and Gene Expression Analysis Resolves Heterogeneity within Stem Cell Populations.](https://europepmc.org/article/MED/26004780)  \\n\\n## 2014\\n  \\n* Benayoun BA et al, [H3K4me3 breadth is linked to cell identity and transcriptional consistency.](https://europepmc.org/article/MED/25083876)  \\n* Boroviak T et al, [The ability of inner-cell-mass cells to self-renew as embryonic stem cells is acquired following epiblast specification.](https://europepmc.org/article/MED/24859004)  \\n* Hogan BL et al, [Repair and regeneration of the respiratory system: complexity, plasticity, and mechanisms of lung stem cell function.](https://europepmc.org/article/MED/25105578)  \\n* Kotton DN et al, [Lung regeneration: mechanisms, applications and emerging stem cell populations.](https://europepmc.org/article/MED/25100528)  \\n* Kumar RM et al, [Deconstructing transcriptional heterogeneity in pluripotent stem cells.](https://europepmc.org/article/MED/25471879)  \\n* Macaulay IC et al, [Single cell genomics: advances and future perspectives.](https://europepmc.org/article/MED/24497842)  \\n* Marinov GK et al, [From single-cell to cell-pool transcriptomes: stochasticity in gene expression and RNA splicing.](https://europepmc.org/article/MED/24299736)  \\n* Pollen AA et al, [Low-coverage single-cell mRNA sequencing reveals cellular heterogeneity and activated signaling pathways in developing cerebral cortex.](https://europepmc.org/article/MED/25086649)  \\n* Saliba AE et al, [Single-cell RNA-seq: advances and future challenges.](https://europepmc.org/article/MED/25053837)  \\n* Smith ZD et al, [DNA methylation dynamics of the human preimplantation embryo.](https://europepmc.org/article/MED/25079558)  \\n* Ting DT et al, [Single-cell RNA sequencing identifies extracellular matrix gene expression by pancreatic circulating tumor cells.](https://europepmc.org/article/MED/25242334)  \\n\\n## 2013\\n  \\n* Guo H et al, [Single-cell methylome landscapes of mouse embryonic stem cells and early embryos analyzed using reduced representation bisulfite sequencing.](https://europepmc.org/article/MED/24179143)  \\n* Leitch HG et al, [Naive pluripotency is associated with global DNA hypomethylation.](https://europepmc.org/article/MED/23416945)  \\n* Shyh-Chang N et al, [Lin28: primal regulator of growth and metabolism in stem cells.](https://europepmc.org/article/MED/23561442)  \\n\\n## 2010\\n  \\n* Tang F et al, [Tracing the derivation of embryonic stem cells from the inner cell mass by single-cell RNA-Seq analysis.](https://europepmc.org/article/MED/20452321)  \\n* Tang F et al, [RNA-Seq analysis to capture the transcriptome landscape of a single cell.](https://europepmc.org/article/MED/20203668)  \\n  \\n\\n# Last update:\\n  \\nOctober 29, 2020\""
      ]
     },
     "execution_count": 12,
     "metadata": {},
     "output_type": "execute_result"
    }
   ],
   "source": [
    "\n"
   ]
  },
  {
   "cell_type": "code",
   "execution_count": 13,
   "metadata": {},
   "outputs": [
    {
     "data": {
      "text/plain": [
       "<mdutils.fileutils.fileutils.MarkDownFile at 0x7f6dbb3c2310>"
      ]
     },
     "execution_count": 13,
     "metadata": {},
     "output_type": "execute_result"
    }
   ],
   "source": []
  },
  {
   "cell_type": "code",
   "execution_count": null,
   "metadata": {},
   "outputs": [],
   "source": []
  }
 ],
 "metadata": {
  "kernelspec": {
   "display_name": "Python 3",
   "language": "python",
   "name": "python3"
  },
  "language_info": {
   "codemirror_mode": {
    "name": "ipython",
    "version": 3
   },
   "file_extension": ".py",
   "mimetype": "text/x-python",
   "name": "python",
   "nbconvert_exporter": "python",
   "pygments_lexer": "ipython3",
   "version": "3.7.5"
  }
 },
 "nbformat": 4,
 "nbformat_minor": 4
}
